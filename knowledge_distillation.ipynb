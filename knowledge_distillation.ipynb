{
 "cells": [
  {
   "cell_type": "code",
   "execution_count": null,
   "id": "94cd9ff9",
   "metadata": {},
   "outputs": [],
   "source": [
    "import torch\n",
    "import torch.nn as nn\n",
    "import torch.nn.functional as F\n",
    "from torch.utils.data import DataLoader\n",
    "import torch.optim as optim\n",
    "\n",
    "from torchvision.models import resnet18\n",
    "from torchvision.datasets import CIFAR10\n",
    "import torchvision.transforms as transforms\n",
    "\n",
    "device = torch.device(\"cuda\" if torch.cuda.is_available() else \"cpu\")"
   ]
  },
  {
   "cell_type": "code",
   "execution_count": null,
   "id": "17afb30c",
   "metadata": {},
   "outputs": [],
   "source": [
    "class LeNet(nn.Module):\n",
    "\n",
    "    def __init__(self):\n",
    "        super(LeNet, self).__init__()\n",
    "        self.conv1 = nn.Conv2d(3, 6, 5)\n",
    "        self.conv2 = nn.Conv2d(6, 16, 5)\n",
    "        # an affine operation: y = Wx + b\n",
    "        self.fc1 = nn.Linear(16 * 5 * 5, 120)  # 5*5 from image dimension\n",
    "        self.fc2 = nn.Linear(120, 84)\n",
    "        self.fc3 = nn.Linear(84, 10)\n",
    "\n",
    "    def forward(self, x):\n",
    "        # Max pooling over a (2, 2) window\n",
    "        x = F.max_pool2d(F.relu(self.conv1(x)), (2, 2))\n",
    "        # If the size is a square, you can specify with a single number\n",
    "        x = F.max_pool2d(F.relu(self.conv2(x)), 2)\n",
    "        x = torch.flatten(x, 1) # flatten all dimensions except the batch dimension\n",
    "        x = F.relu(self.fc1(x))\n",
    "        x = F.relu(self.fc2(x))\n",
    "        x = self.fc3(x)\n",
    "        return x"
   ]
  },
  {
   "cell_type": "code",
   "execution_count": null,
   "id": "20395b4a",
   "metadata": {},
   "outputs": [],
   "source": [
    "# Define transformations\n",
    "transform = transforms.Compose([\n",
    "    transforms.ToTensor(),\n",
    "    transforms.Normalize(mean=[0.485, 0.456, 0.406], std=[0.229, 0.224, 0.225]),\n",
    "])\n",
    "\n",
    "# Load FashionMNIST dataset\n",
    "train_dataset = CIFAR10(root=\"./data\", train=True, transform=transform, download=True)\n",
    "test_dataset = CIFAR10(root=\"./data\", train=False, transform=transform, download=True)\n",
    "\n",
    "# Create data loaders\n",
    "train_loader = DataLoader(dataset=train_dataset, batch_size=64, shuffle=True, num_workers=2)\n",
    "test_loader = DataLoader(dataset=test_dataset, batch_size=64, shuffle=False, num_workers=2)\n",
    "\n",
    "# Initialize the loss function\n",
    "criterion = nn.CrossEntropyLoss()"
   ]
  },
  {
   "cell_type": "code",
   "execution_count": null,
   "id": "3cf038e4",
   "metadata": {},
   "outputs": [],
   "source": [
    "def evaluate(model):\n",
    "    # Evaluate the model on the test set    \n",
    "    model.eval()\n",
    "    correct = 0\n",
    "    total = 0\n",
    "\n",
    "    with torch.no_grad():\n",
    "        for images, labels in test_loader:\n",
    "            images = images.to(device)\n",
    "            labels = labels.to(device)\n",
    "            \n",
    "            outputs = model(images)\n",
    "            \n",
    "            _, predicted = torch.max(outputs.data, 1)\n",
    "            \n",
    "            total += labels.size(0)\n",
    "            correct += (predicted == labels).sum().item()\n",
    "\n",
    "    accuracy = correct / total\n",
    "    print(f'Train Accuracy: {accuracy * 100:.2f}%')"
   ]
  },
  {
   "cell_type": "code",
   "execution_count": null,
   "id": "0f8f52f3",
   "metadata": {},
   "outputs": [],
   "source": [
    "def train(model, num_epochs, lr):\n",
    "    \n",
    "    optimizer = optim.Adam(model.parameters(), lr=lr)\n",
    "    for epoch in range(num_epochs):\n",
    "        model.train()\n",
    "        running_loss = 0.0\n",
    "\n",
    "        for images, labels in train_loader:\n",
    "            optimizer.zero_grad()\n",
    "            labels = labels.to(device)\n",
    "            outputs = model(images.to(device))\n",
    "\n",
    "            loss = criterion(outputs, labels)\n",
    "            loss.backward()\n",
    "            optimizer.step()\n",
    "\n",
    "            running_loss += loss.item()\n",
    "        print(f'Epoch {epoch + 1}/{num_epochs}, Loss: {running_loss / len(train_loader):.3f}')"
   ]
  },
  {
   "cell_type": "code",
   "execution_count": null,
   "id": "567fd25c",
   "metadata": {},
   "outputs": [],
   "source": [
    "student = LeNet().to(device)\n",
    "teacher = resnet18(num_classes=10).to(device)"
   ]
  },
  {
   "cell_type": "code",
   "execution_count": null,
   "id": "0cbfc41f",
   "metadata": {},
   "outputs": [],
   "source": [
    "num_epochs=30\n",
    "lr=0.001\n",
    "\n",
    "# train the teacher\n",
    "train(teacher, num_epochs, lr)\n",
    "evaluate(teacher)"
   ]
  },
  {
   "cell_type": "code",
   "execution_count": null,
   "id": "7aadb504",
   "metadata": {},
   "outputs": [],
   "source": [
    "train(student, num_epochs, lr)\n",
    "evaluate(student)"
   ]
  },
  {
   "cell_type": "code",
   "execution_count": null,
   "id": "c568bc39",
   "metadata": {},
   "outputs": [],
   "source": [
    "def train_distil(student, teacher, teaching_wt, num_epochs, lr):\n",
    "    teacher.eval()\n",
    "    student.train()\n",
    "\n",
    "    optimizer = optim.Adam(student.parameters(), lr=lr)\n",
    "    for epoch in range(num_epochs):\n",
    "        running_label_loss = 0.0\n",
    "        running_teaching_loss = 0.0\n",
    "        running_loss = 0.0\n",
    "        \n",
    "        for images, labels in train_loader:\n",
    "            optimizer.zero_grad()\n",
    "            labels = labels.to(device)\n",
    "            \n",
    "            teacher_output = teacher(images.to(device))\n",
    "            outputs = student(images.to(device))\n",
    "            \n",
    "            teaching_loss = nn.MSELoss()(outputs, teacher_output)\n",
    "            label_loss = criterion(outputs, labels)\n",
    "            \n",
    "            loss = label_loss + teaching_wt * teaching_loss\n",
    "            \n",
    "            loss.backward()\n",
    "            optimizer.step()\n",
    "\n",
    "            running_loss += loss.item()\n",
    "            running_label_loss += label_loss.item()\n",
    "            running_teaching_loss += teaching_loss.item()\n",
    "            \n",
    "        print(f'Epoch {epoch + 1}/{num_epochs}, Label: {running_label_loss / len(train_loader):.3f}, \\\n",
    "        Teacher: {running_teaching_loss / len(train_loader):.3f}, \\\n",
    "        Loss: {running_loss / len(train_loader):.3f}')"
   ]
  },
  {
   "cell_type": "code",
   "execution_count": null,
   "id": "277be22a",
   "metadata": {},
   "outputs": [],
   "source": [
    "teaching_wt = 0.1\n",
    "num_epochs = 10\n",
    "lr = lr/10\n",
    "\n",
    "# tune the student\n",
    "train_distil(student, teacher, teaching_wt, num_epochs, lr)"
   ]
  },
  {
   "cell_type": "code",
   "execution_count": null,
   "id": "e4b36af5",
   "metadata": {},
   "outputs": [],
   "source": [
    "evaluate(student)"
   ]
  },
  {
   "cell_type": "code",
   "execution_count": null,
   "id": "329b84dc",
   "metadata": {},
   "outputs": [],
   "source": [
    "train_distil(student, teacher, teaching_wt, num_epochs, lr)"
   ]
  },
  {
   "cell_type": "code",
   "execution_count": null,
   "id": "05a2b745",
   "metadata": {},
   "outputs": [],
   "source": [
    "train_distil(student, teacher, 0.5, num_epochs, lr)"
   ]
  },
  {
   "cell_type": "code",
   "execution_count": null,
   "id": "68ccf36f",
   "metadata": {},
   "outputs": [],
   "source": [
    "evaluate(student)"
   ]
  },
  {
   "cell_type": "code",
   "execution_count": null,
   "id": "cfcdbe3d",
   "metadata": {},
   "outputs": [],
   "source": [
    "# train student from scratch\n",
    "\n",
    "student = LeNet().to(device)\n",
    "train_distil(student, teacher, 0.001, 30, 0.001)"
   ]
  },
  {
   "cell_type": "code",
   "execution_count": null,
   "id": "e8fe9068",
   "metadata": {},
   "outputs": [],
   "source": [
    "evaluate(student)"
   ]
  },
  {
   "cell_type": "code",
   "execution_count": null,
   "id": "16a746fa",
   "metadata": {},
   "outputs": [],
   "source": []
  }
 ],
 "metadata": {
  "kernelspec": {
   "display_name": "Python 3 (ipykernel)",
   "language": "python",
   "name": "python3"
  },
  "language_info": {
   "codemirror_mode": {
    "name": "ipython",
    "version": 3
   },
   "file_extension": ".py",
   "mimetype": "text/x-python",
   "name": "python",
   "nbconvert_exporter": "python",
   "pygments_lexer": "ipython3",
   "version": "3.10.12"
  }
 },
 "nbformat": 4,
 "nbformat_minor": 5
}
